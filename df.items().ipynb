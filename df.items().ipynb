version https://git-lfs.github.com/spec/v1
oid sha256:9c5c3f7e77a02f17021d7dbd8e53092265bc94fd171f97c8900bb41f94997e48
size 3844
