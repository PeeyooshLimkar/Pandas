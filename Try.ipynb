version https://git-lfs.github.com/spec/v1
oid sha256:a51f9f15a015d50f3dc61672059489387dad94db3a217ab1a0b193b5aef3aa2e
size 1625
