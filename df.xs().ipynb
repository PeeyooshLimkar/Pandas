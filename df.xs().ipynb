version https://git-lfs.github.com/spec/v1
oid sha256:5a7bdfc7b476f0cbfe0f39678f6116b9c691c494cc4b76be7a7ebd219671333c
size 19658
